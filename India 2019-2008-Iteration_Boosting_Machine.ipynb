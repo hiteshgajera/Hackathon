{
 "cells": [
  {
   "cell_type": "code",
   "execution_count": null,
   "metadata": {
    "ExecuteTime": {
     "start_time": "2019-08-20T22:07:55.729Z"
    }
   },
   "outputs": [],
   "source": [
    "### import packages\n",
    "import numpy as np\n",
    "import pandas as pd\n",
    "from sklearn import tree\n",
    "from sklearn.metrics import f1_score\n",
    "from sklearn.ensemble import RandomForestClassifier\n",
    "from sklearn.model_selection import RandomizedSearchCV"
   ]
  },
  {
   "cell_type": "code",
   "execution_count": null,
   "metadata": {
    "ExecuteTime": {
     "start_time": "2019-08-20T22:07:57.276Z"
    }
   },
   "outputs": [],
   "source": [
    "### read the data file\n",
    "datafile_train=r'C:\\Users\\User\\Documents\\Data Science\\Python\\Hackathon\\train.csv'\n",
    "datafile_test=r'C:\\Users\\User\\Documents\\Data Science\\Python\\Hackathon\\test.csv'\n",
    "ld_train=pd.read_csv(datafile_train)\n",
    "ld_test=pd.read_csv(datafile_test)"
   ]
  },
  {
   "cell_type": "markdown",
   "metadata": {},
   "source": [
    "print(ld_train.shape)\n",
    "print(ld_test.shape)"
   ]
  },
  {
   "cell_type": "markdown",
   "metadata": {
    "scrolled": true
   },
   "source": [
    "ld_train"
   ]
  },
  {
   "cell_type": "markdown",
   "metadata": {
    "scrolled": true
   },
   "source": [
    "list(zip(  ld_train.isnull().sum(), ld_train.nunique(), ld_train.dtypes, ld_train.columns))"
   ]
  },
  {
   "cell_type": "markdown",
   "metadata": {},
   "source": [
    "1. covert origination_date and first_payment_date to date format\n",
    "2. Loan pusrpose\n",
    "3. categorical variable : source, financial_institution, \n",
    "    \n",
    " (0, 116058, dtype('int64'), 'loan_id') \n",
    "     remove\n",
    " (0, 3, dtype('O'), 'source')\n",
    "     dummies\n",
    " (0, 19, dtype('O'), 'financial_institution') \n",
    "     dummies\n",
    " (0, 923, dtype('float64'), 'interest_rate'),\n",
    "     features with ranges. 0to1, 1to2, 2to3, 3to4\n",
    " (0, 646, dtype('int64'), 'unpaid_principal_bal')\n",
    " (0, 140, dtype('int64'), 'loan_term'), = check the values\n",
    " (0, 3, dtype('O'), 'origination_date')\n",
    "     create dummies, test and train date format alignment\n",
    " (0, 4, dtype('O'), 'first_payment_date'),\n",
    "     create dummies, test and train date format alignment\n",
    " (0, 92, dtype('int64'), 'loan_to_value'),\n",
    " (0, 2, dtype('float64'), 'number_of_borrowers'),\n",
    "         change value from 1, 2 to 1,0\n",
    "         can create dummy but not created in iteration1\n",
    " (0, 58, dtype('float64'), 'debt_to_income_ratio'),\n",
    "     create features with ranges : 1 to 5, 5 to 10\n",
    " (0, 221, dtype('float64'), 'borrower_credit_score'),\n",
    "     create features with ranges : 0 to 50, 51 to 100, 101 to 150 till 850\n",
    " (0, 3, dtype('O'), 'loan_purpose'),\n",
    "     dummies\n",
    " (0, 14, dtype('float64'), 'insurance_percent'),\n",
    "     create features with ranges 0to10. 11 to 20.. till 40\n",
    " (0, 216, dtype('float64'), 'co-borrower_credit_score'),\n",
    "     create features with ranges : 0 to 50, 51 to 100, 101 to 150 till 850\n",
    " (0, 2, dtype('float64'), 'insurance_type'),\n",
    " (0, 4, dtype('int64'), 'm1'),\n",
    " (0, 5, dtype('int64'), 'm2'),\n",
    " (0, 6, dtype('int64'), 'm3'),\n",
    " (0, 7, dtype('int64'), 'm4'),\n",
    " (0, 8, dtype('int64'), 'm5'),\n",
    " (0, 9, dtype('int64'), 'm6'),\n",
    " (0, 10, dtype('int64'), 'm7'),\n",
    " (0, 10, dtype('int64'), 'm8'),\n",
    " (0, 11, dtype('int64'), 'm9'),\n",
    " (0, 12, dtype('int64'), 'm10'),\n",
    " (0, 13, dtype('int64'), 'm11'),\n",
    " (0, 13, dtype('int64'), 'm12'),\n",
    " (0, 2, dtype('int64'), 'm13')"
   ]
  },
  {
   "cell_type": "code",
   "execution_count": null,
   "metadata": {
    "ExecuteTime": {
     "start_time": "2019-08-20T22:08:01.515Z"
    }
   },
   "outputs": [],
   "source": [
    "#(0, 923, dtype('float64'), 'interest_rate') = features with ranges. 0to1, 1to2, 2to3, 3to4 to 8\n",
    "ld_train['IR_0to1'] = np.where(ld_train['interest_rate']<=1,1,0)\n",
    "ld_train['IR_1to2'] = np.where(ld_train['interest_rate'].between(1,2),1,0)\n",
    "ld_train['IR_2to3'] = np.where(ld_train['interest_rate'].between(2,3),1,0)\n",
    "ld_train['IR_3to4'] = np.where(ld_train['interest_rate'].between(3,4),1,0)\n",
    "ld_train['IR_4to5'] = np.where(ld_train['interest_rate'].between(4,5),1,0)\n",
    "ld_train['IR_5to6'] = np.where(ld_train['interest_rate'].between(5,6),1,0)\n",
    "ld_train['IR_6to7'] = np.where(ld_train['interest_rate'].between(6,7),1,0)\n",
    "ld_train.drop(['interest_rate'], axis=1)\n",
    "\n",
    "\n",
    "#in test data\n",
    "ld_test['IR_0to1'] = np.where(ld_test['interest_rate']<=1,1,0)\n",
    "ld_test['IR_1to2'] = np.where(ld_test['interest_rate'].between(1,2),1,0)\n",
    "ld_test['IR_2to3'] = np.where(ld_test['interest_rate'].between(2,3),1,0)\n",
    "ld_test['IR_3to4'] = np.where(ld_test['interest_rate'].between(3,4),1,0)\n",
    "ld_test['IR_4to5'] = np.where(ld_test['interest_rate'].between(4,5),1,0)\n",
    "ld_test['IR_5to6'] = np.where(ld_test['interest_rate'].between(5,6),1,0)\n",
    "ld_test['IR_6to7'] = np.where(ld_test['interest_rate'].between(6,7),1,0)\n",
    "\n",
    "ld_test.drop(['interest_rate'], axis=1)"
   ]
  },
  {
   "cell_type": "code",
   "execution_count": null,
   "metadata": {
    "ExecuteTime": {
     "start_time": "2019-08-20T22:09:36.553Z"
    }
   },
   "outputs": [],
   "source": [
    "#create dummy for top 7 values of loan_term\n",
    "k=ld_train['loan_term'].value_counts()\n",
    "\n",
    "for val in k.axes[0][0:7]:\n",
    "    varname='loan_term_'+str(val)\n",
    "    ld_train[varname]=np.where(ld_train['loan_term']==val,1,0)\n",
    "    ld_test[varname]=np.where(ld_test['loan_term']==val,1,0)\n",
    "del ld_train['loan_term']\n",
    "del ld_test['loan_term']"
   ]
  },
  {
   "cell_type": "code",
   "execution_count": null,
   "metadata": {
    "ExecuteTime": {
     "start_time": "2019-08-20T22:09:37.092Z"
    }
   },
   "outputs": [],
   "source": [
    "# (0, 58, dtype('float64'), 'debt_to_income_ratio') = create features with ranges : 1 to 5, 5 to 10 till 65\n",
    "i=(0,5,10,15,20,25,30,35,40,45,50,55,60)\n",
    "\n",
    "for var in i:\n",
    "    var_name = 'DIR_'+str(var)+'to'+str(var+5)\n",
    "    ld_train[var_name]=np.where(ld_train['debt_to_income_ratio'].between(var, var+5),1,0)\n",
    "    ld_test[var_name]=np.where(ld_test['debt_to_income_ratio'].between(var, var+5),1,0)\n",
    "\n",
    "del ld_train['debt_to_income_ratio']\n",
    "del ld_test['debt_to_income_ratio']"
   ]
  },
  {
   "cell_type": "code",
   "execution_count": null,
   "metadata": {
    "ExecuteTime": {
     "start_time": "2019-08-20T22:09:38.014Z"
    }
   },
   "outputs": [],
   "source": [
    "# (0, 221, dtype('float64'), 'borrower_credit_score') = create features with ranges : 0 to 50, 51 to 100, 101 to 150 till 850\n",
    "i=0\n",
    "\n",
    "while i < 850:\n",
    "    var_name = 'BCS_'+str(i)+'to'+str(i+50)\n",
    "    ld_train[var_name]=np.where(ld_train['borrower_credit_score'].between(i, i+50),1,0)\n",
    "    ld_test[var_name]=np.where(ld_test['borrower_credit_score'].between(i,i+50),1,0)\n",
    "    i+=50\n",
    "\n",
    "del ld_train['borrower_credit_score']\n",
    "del ld_test['borrower_credit_score']"
   ]
  },
  {
   "cell_type": "code",
   "execution_count": null,
   "metadata": {
    "ExecuteTime": {
     "start_time": "2019-08-20T22:09:38.725Z"
    }
   },
   "outputs": [],
   "source": [
    "# (0, 14, dtype('float64'), 'insurance_percent') = create features with ranges 0to10. 11 to 20.. till 40\n",
    "i=0\n",
    "\n",
    "while i < 40:\n",
    "    i_from = i\n",
    "    i_to = i+10\n",
    "    var_name = 'IP_'+str(i_from)+'to'+str(i_to)\n",
    "    ld_train[var_name]=np.where(ld_train['insurance_percent'].between(i_from, i_to),1,0)\n",
    "    ld_test[var_name]=np.where(ld_test['insurance_percent'].between(i_from, i_to),1,0)\n",
    "   # print(var_name)\n",
    "    i+=10\n",
    "\n",
    "del ld_train['insurance_percent']\n",
    "del ld_test['insurance_percent']"
   ]
  },
  {
   "cell_type": "code",
   "execution_count": null,
   "metadata": {
    "ExecuteTime": {
     "start_time": "2019-08-20T22:09:39.343Z"
    }
   },
   "outputs": [],
   "source": [
    " #(0, 216, dtype('float64'), 'co-borrower_credit_score') = create features with ranges : 0 to 50, 51 to 100, 101 to 150 till 850\n",
    "    \n",
    "i=0\n",
    "\n",
    "while i < 850:\n",
    "    i_from = i\n",
    "    i_to = i+50\n",
    "    var_name = 'CBCS_'+str(i_from)+'to'+str(i_to)\n",
    "    ld_train[var_name]=np.where(ld_train['co-borrower_credit_score'].between(i_from, i_to),1,0)\n",
    "    ld_test[var_name]=np.where(ld_test['co-borrower_credit_score'].between(i_from, i_to),1,0)\n",
    "    #print(var_name)\n",
    "    i=i_to\n",
    "\n",
    "del ld_train['co-borrower_credit_score']\n",
    "del ld_test['co-borrower_credit_score']"
   ]
  },
  {
   "cell_type": "markdown",
   "metadata": {},
   "source": [
    "Documentation reference for datetime format @https://docs.python.org/3/library/datetime.html#strftime-and-strptime-behavior"
   ]
  },
  {
   "cell_type": "code",
   "execution_count": null,
   "metadata": {
    "ExecuteTime": {
     "start_time": "2019-08-20T22:09:40.674Z"
    }
   },
   "outputs": [],
   "source": [
    "# (0, 3, dtype('O'), 'origination_date') =create dummies, test and train date format alignment\n",
    "# (0, 4, dtype('O'), 'first_payment_date') = create dummies, test and train date format alignment\n",
    "#convert the columns into date time\n",
    "for col in ['origination_date','first_payment_date']:\n",
    "    ld_train[col]=pd.to_datetime(ld_train[col],infer_datetime_format=True)\n",
    "    \n",
    "for col in ['origination_date']:\n",
    "    ld_test[col]=pd.to_datetime(ld_test[col],infer_datetime_format=True)\n",
    "\n",
    "for col in ['first_payment_date']:\n",
    "    ld_test['first_payment_date']=pd.to_datetime(ld_test[col],infer_datetime_format=True, format='%b-%y')"
   ]
  },
  {
   "cell_type": "code",
   "execution_count": null,
   "metadata": {
    "ExecuteTime": {
     "start_time": "2019-08-20T22:09:41.334Z"
    }
   },
   "outputs": [],
   "source": [
    "#create feature having difference between origination date and first payment date\n",
    "#droping both originating and first payment date column\n",
    "ld_train['diff_date_origin_firstPay']=pd.to_numeric(ld_train['first_payment_date']-ld_train['origination_date'])/(60*60*24*1000000000)\n",
    "ld_test['diff_date_origin_firstPay']=pd.to_numeric(ld_test['first_payment_date']-ld_test['origination_date'])/(60*60*24*1000000000)\n",
    "\n",
    "del ld_train['origination_date']\n",
    "del ld_test['origination_date']\n",
    "del ld_train['first_payment_date']\n",
    "del ld_test['first_payment_date']"
   ]
  },
  {
   "cell_type": "code",
   "execution_count": null,
   "metadata": {
    "ExecuteTime": {
     "start_time": "2019-08-20T22:09:42.325Z"
    }
   },
   "outputs": [],
   "source": [
    "#create dummy columns\n",
    "for col in ['source', 'financial_institution','loan_purpose']:\n",
    "    \n",
    "    temp=pd.get_dummies(ld_train[col],prefix=col,drop_first=True)\n",
    "    ld_train=pd.concat([temp,ld_train],1)\n",
    "    ld_train.drop([col],1,inplace=True)\n",
    "    \n",
    "    temp=pd.get_dummies(ld_test[col],prefix=col,drop_first=True)\n",
    "    ld_test=pd.concat([temp,ld_test],1)\n",
    "    ld_test.drop([col],1,inplace=True)"
   ]
  },
  {
   "cell_type": "markdown",
   "metadata": {},
   "source": [
    "print(ld_test.shape)\n",
    "print(ld_train.shape)"
   ]
  },
  {
   "cell_type": "code",
   "execution_count": null,
   "metadata": {},
   "outputs": [],
   "source": []
  },
  {
   "cell_type": "markdown",
   "metadata": {},
   "source": [
    "### train and test dataset creation"
   ]
  },
  {
   "cell_type": "code",
   "execution_count": null,
   "metadata": {
    "ExecuteTime": {
     "start_time": "2019-08-20T22:09:46.247Z"
    }
   },
   "outputs": [],
   "source": [
    "#from sklearn.cross_validation import train_test_split,KFold\n",
    "x=ld_train.drop(['loan_id','m13'],1)\n",
    "y=ld_train['m13']\n"
   ]
  },
  {
   "cell_type": "code",
   "execution_count": null,
   "metadata": {
    "scrolled": true
   },
   "outputs": [],
   "source": []
  },
  {
   "cell_type": "markdown",
   "metadata": {},
   "source": [
    "### Model creation"
   ]
  },
  {
   "cell_type": "markdown",
   "metadata": {},
   "source": [
    "#### Random Forest"
   ]
  },
  {
   "cell_type": "code",
   "execution_count": null,
   "metadata": {
    "ExecuteTime": {
     "start_time": "2019-08-20T22:09:51.771Z"
    }
   },
   "outputs": [],
   "source": [
    "from sklearn import tree\n",
    "from sklearn.metrics import f1_score\n",
    "from sklearn.ensemble import GradientBoostingClassifier\n",
    "from sklearn.model_selection import RandomizedSearchCV\n",
    "from xgboost.sklearn import XGBClassifier"
   ]
  },
  {
   "cell_type": "code",
   "execution_count": null,
   "metadata": {
    "ExecuteTime": {
     "start_time": "2019-08-20T22:09:58.904Z"
    }
   },
   "outputs": [],
   "source": [
    "gbm_params = { \"n_estimators\":[200,300,400,500,600,700],\n",
    "              \"learning_rate\":[0.01, 0.03, 0.05, 0.07, 0.1,0.4,0.8,1],\n",
    "              \"max_depth\":[1,2,3,4,5,6],\n",
    "              \"subsample\":[0.5,0.8,1],\n",
    "              \"max_features\":[5,10,15,20,30,45]\n",
    "}\n",
    "\n"
   ]
  },
  {
   "cell_type": "code",
   "execution_count": null,
   "metadata": {
    "ExecuteTime": {
     "start_time": "2019-08-20T22:10:00.563Z"
    }
   },
   "outputs": [],
   "source": [
    "gbm = GradientBoostingClassifier()"
   ]
  },
  {
   "cell_type": "code",
   "execution_count": null,
   "metadata": {
    "ExecuteTime": {
     "start_time": "2019-08-20T22:04:05.271Z"
    }
   },
   "outputs": [],
   "source": [
    "random_search = RandomizedSearchCV(gbm, param_distributions=gbm_params, n_iter=150,scoring='f1',cv=10, verbose=1, n_jobs=-1)"
   ]
  },
  {
   "cell_type": "code",
   "execution_count": null,
   "metadata": {
    "ExecuteTime": {
     "start_time": "2019-08-20T22:03:35.420Z"
    }
   },
   "outputs": [
    {
     "name": "stdout",
     "output_type": "stream",
     "text": [
      "Fitting 10 folds for each of 500 candidates, totalling 5000 fits\n"
     ]
    }
   ],
   "source": [
    "random_search.fit(x, y)"
   ]
  },
  {
   "cell_type": "code",
   "execution_count": 31,
   "metadata": {
    "ExecuteTime": {
     "end_time": "2019-08-20T21:50:46.688258Z",
     "start_time": "2019-08-20T21:50:46.680261Z"
    }
   },
   "outputs": [
    {
     "data": {
      "text/plain": [
       "GradientBoostingClassifier(criterion='friedman_mse', init=None,\n",
       "              learning_rate=0.03, loss='deviance', max_depth=3,\n",
       "              max_features=10, max_leaf_nodes=None,\n",
       "              min_impurity_decrease=0.0, min_impurity_split=None,\n",
       "              min_samples_leaf=1, min_samples_split=2,\n",
       "              min_weight_fraction_leaf=0.0, n_estimators=500,\n",
       "              presort='auto', random_state=None, subsample=0.8, verbose=0,\n",
       "              warm_start=False)"
      ]
     },
     "execution_count": 31,
     "metadata": {},
     "output_type": "execute_result"
    }
   ],
   "source": [
    "r_forest=random_search.best_estimator_\n",
    "r_forest"
   ]
  },
  {
   "cell_type": "code",
   "execution_count": 21,
   "metadata": {
    "ExecuteTime": {
     "end_time": "2019-08-20T21:13:59.008020Z",
     "start_time": "2019-08-20T21:13:58.988022Z"
    }
   },
   "outputs": [],
   "source": [
    "##Report function\n",
    "def report(results, n_top=3):\n",
    "    for i in range(1, n_top + 1):\n",
    "        candidates = np.flatnonzero(results['rank_test_score'] == i)\n",
    "        for candidate in candidates:\n",
    "            print(\"Model with rank: {0}\".format(i))\n",
    "            print(\"Mean validation score: {0:.3f} (std: {1:.5f})\".format(\n",
    "                  results['mean_test_score'][candidate],\n",
    "                  results['std_test_score'][candidate]))\n",
    "            print(\"Parameters: {0}\".format(results['params'][candidate]))\n",
    "            print(\"\")"
   ]
  },
  {
   "cell_type": "code",
   "execution_count": 32,
   "metadata": {
    "ExecuteTime": {
     "end_time": "2019-08-20T21:50:47.128147Z",
     "start_time": "2019-08-20T21:50:47.116149Z"
    },
    "scrolled": true
   },
   "outputs": [
    {
     "name": "stdout",
     "output_type": "stream",
     "text": [
      "Model with rank: 1\n",
      "Mean validation score: 0.504 (std: 0.03621)\n",
      "Parameters: {'subsample': 0.8, 'n_estimators': 500, 'max_features': 10, 'max_depth': 3, 'learning_rate': 0.03}\n",
      "\n",
      "Model with rank: 2\n",
      "Mean validation score: 0.494 (std: 0.03168)\n",
      "Parameters: {'subsample': 1, 'n_estimators': 400, 'max_features': 30, 'max_depth': 5, 'learning_rate': 0.01}\n",
      "\n",
      "Model with rank: 3\n",
      "Mean validation score: 0.494 (std: 0.04310)\n",
      "Parameters: {'subsample': 0.8, 'n_estimators': 500, 'max_features': 45, 'max_depth': 1, 'learning_rate': 0.01}\n",
      "\n",
      "Model with rank: 4\n",
      "Mean validation score: 0.491 (std: 0.05546)\n",
      "Parameters: {'subsample': 0.5, 'n_estimators': 500, 'max_features': 30, 'max_depth': 1, 'learning_rate': 0.01}\n",
      "\n",
      "Model with rank: 5\n",
      "Mean validation score: 0.427 (std: 0.05514)\n",
      "Parameters: {'subsample': 1, 'n_estimators': 500, 'max_features': 5, 'max_depth': 4, 'learning_rate': 0.1}\n",
      "\n"
     ]
    }
   ],
   "source": [
    "report(random_search.cv_results_,5)"
   ]
  },
  {
   "cell_type": "code",
   "execution_count": 33,
   "metadata": {
    "ExecuteTime": {
     "end_time": "2019-08-20T21:51:30.105257Z",
     "start_time": "2019-08-20T21:50:47.512051Z"
    }
   },
   "outputs": [
    {
     "data": {
      "text/plain": [
       "GradientBoostingClassifier(criterion='friedman_mse', init=None,\n",
       "              learning_rate=0.03, loss='deviance', max_depth=3,\n",
       "              max_features=10, max_leaf_nodes=None,\n",
       "              min_impurity_decrease=0.0, min_impurity_split=None,\n",
       "              min_samples_leaf=1, min_samples_split=2,\n",
       "              min_weight_fraction_leaf=0.0, n_estimators=500,\n",
       "              presort='auto', random_state=None, subsample=0.8, verbose=0,\n",
       "              warm_start=False)"
      ]
     },
     "execution_count": 33,
     "metadata": {},
     "output_type": "execute_result"
    }
   ],
   "source": [
    "r_forest.fit(x,y)"
   ]
  },
  {
   "cell_type": "code",
   "execution_count": null,
   "metadata": {},
   "outputs": [],
   "source": []
  },
  {
   "cell_type": "code",
   "execution_count": 34,
   "metadata": {
    "ExecuteTime": {
     "end_time": "2019-08-20T21:51:31.548908Z",
     "start_time": "2019-08-20T21:51:30.477164Z"
    }
   },
   "outputs": [],
   "source": [
    "prediction=np.where(r_forest.predict(ld_test.drop(['loan_id'],1))==1,1,0)\n",
    "submission=pd.DataFrame(list(zip(ld_test['loan_id'],list(prediction))),\n",
    "                       columns=['loan_id','m13'])"
   ]
  },
  {
   "cell_type": "code",
   "execution_count": 35,
   "metadata": {
    "ExecuteTime": {
     "end_time": "2019-08-20T21:51:32.140741Z",
     "start_time": "2019-08-20T21:51:32.128744Z"
    }
   },
   "outputs": [
    {
     "name": "stdout",
     "output_type": "stream",
     "text": [
      "(35866, 106)\n"
     ]
    }
   ],
   "source": [
    "submission.head(4)\n",
    "print(ld_test.shape)"
   ]
  },
  {
   "cell_type": "code",
   "execution_count": 36,
   "metadata": {
    "ExecuteTime": {
     "end_time": "2019-08-20T21:51:32.992526Z",
     "start_time": "2019-08-20T21:51:32.748587Z"
    }
   },
   "outputs": [],
   "source": [
    "submission.to_csv('sample_submission_2008_Boost2.csv',index=False)"
   ]
  },
  {
   "cell_type": "code",
   "execution_count": null,
   "metadata": {},
   "outputs": [],
   "source": []
  },
  {
   "cell_type": "code",
   "execution_count": null,
   "metadata": {},
   "outputs": [],
   "source": []
  },
  {
   "cell_type": "code",
   "execution_count": null,
   "metadata": {},
   "outputs": [],
   "source": []
  },
  {
   "cell_type": "code",
   "execution_count": null,
   "metadata": {},
   "outputs": [],
   "source": []
  },
  {
   "cell_type": "code",
   "execution_count": null,
   "metadata": {},
   "outputs": [],
   "source": []
  }
 ],
 "metadata": {
  "kernelspec": {
   "display_name": "Python 3",
   "language": "python",
   "name": "python3"
  },
  "language_info": {
   "codemirror_mode": {
    "name": "ipython",
    "version": 3
   },
   "file_extension": ".py",
   "mimetype": "text/x-python",
   "name": "python",
   "nbconvert_exporter": "python",
   "pygments_lexer": "ipython3",
   "version": "3.6.4"
  },
  "toc": {
   "base_numbering": 1,
   "nav_menu": {},
   "number_sections": true,
   "sideBar": true,
   "skip_h1_title": false,
   "title_cell": "Table of Contents",
   "title_sidebar": "Contents",
   "toc_cell": false,
   "toc_position": {},
   "toc_section_display": true,
   "toc_window_display": false
  },
  "varInspector": {
   "cols": {
    "lenName": 16,
    "lenType": 16,
    "lenVar": 40
   },
   "kernels_config": {
    "python": {
     "delete_cmd_postfix": "",
     "delete_cmd_prefix": "del ",
     "library": "var_list.py",
     "varRefreshCmd": "print(var_dic_list())"
    },
    "r": {
     "delete_cmd_postfix": ") ",
     "delete_cmd_prefix": "rm(",
     "library": "var_list.r",
     "varRefreshCmd": "cat(var_dic_list()) "
    }
   },
   "types_to_exclude": [
    "module",
    "function",
    "builtin_function_or_method",
    "instance",
    "_Feature"
   ],
   "window_display": false
  }
 },
 "nbformat": 4,
 "nbformat_minor": 2
}
